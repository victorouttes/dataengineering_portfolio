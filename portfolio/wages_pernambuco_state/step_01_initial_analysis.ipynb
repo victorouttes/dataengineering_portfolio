{
 "cells": [
  {
   "cell_type": "markdown",
   "source": [
    "# Pernambuco State Wages in 2022\n",
    "This is an initial analysis of 2022 wages data of government employees. These data are stored in https://dados.pe.gov.br/dataset/remuneracao-de-servidores."
   ],
   "metadata": {
    "collapsed": false
   }
  },
  {
   "cell_type": "code",
   "execution_count": 1,
   "outputs": [],
   "source": [
    "import requests\n",
    "import pandas as pd\n",
    "import matplotlib.pyplot as plt"
   ],
   "metadata": {
    "collapsed": false
   }
  },
  {
   "cell_type": "markdown",
   "source": [
    "## Initial Analysis\n",
    "First, we need to understand the data structure and content. The sample I'm using to check data is the December active employees file. The file is a JSON with only one key named \"campos\". The data of this key is a list of dictionaries."
   ],
   "metadata": {
    "collapsed": false
   }
  },
  {
   "cell_type": "code",
   "execution_count": 2,
   "outputs": [],
   "source": [
    "def get_dataset(url: str) -> pd.DataFrame:\n",
    "    response = requests.get(url)\n",
    "    if response.status_code == 200:\n",
    "        if url.endswith('.json'):\n",
    "            data = response.json()['campos']\n",
    "        return pd.DataFrame(data)\n",
    "    else:\n",
    "        print('Request to provided URL failed!')\n",
    "    return None"
   ],
   "metadata": {
    "collapsed": false,
    "ExecuteTime": {
     "start_time": "2023-08-06T03:24:16.021099Z",
     "end_time": "2023-08-06T03:24:16.053168Z"
    }
   }
  },
  {
   "cell_type": "code",
   "execution_count": 3,
   "outputs": [],
   "source": [
    "sample = r'https://dados.pe.gov.br/dataset/7bbfeed7-3019-4c6a-bee7-e1b7411f616b/resource/68cb38cf-bae8-49d8-a30b-6cf48338ada7/download/2022_12_remuneracao_ativos.json'\n",
    "df = get_dataset(sample)"
   ],
   "metadata": {
    "collapsed": false,
    "ExecuteTime": {
     "start_time": "2023-08-06T03:24:17.011436Z",
     "end_time": "2023-08-06T03:24:42.491061Z"
    }
   }
  },
  {
   "cell_type": "markdown",
   "source": [
    "Let's see the columns of this JSON:"
   ],
   "metadata": {
    "collapsed": false
   }
  },
  {
   "cell_type": "code",
   "execution_count": 4,
   "outputs": [
    {
     "data": {
      "text/plain": "Index(['r_total_vantagens', 'r_imposto_renda', 'r_outras_vantagens',\n       'r_vencimento_cargo', 'r_categoria', 'r_gratificacao_funcao', 'r_cargo',\n       'r_desconto_excedente', 'r_descontos_compulsorios', 'r_matricula',\n       'r_natalina', 'r_nome', 'r_outros_creditos', 'r_instituicao',\n       'r_funcao', 'r_descontos_previdencia', 'r_valor_liquido',\n       'r_remuneracao', 'r_ferias', 'r_cpf', 'r_descontos_faltas'],\n      dtype='object')"
     },
     "execution_count": 4,
     "metadata": {},
     "output_type": "execute_result"
    }
   ],
   "source": [
    "df.columns"
   ],
   "metadata": {
    "collapsed": false,
    "ExecuteTime": {
     "start_time": "2023-08-06T03:24:42.497543Z",
     "end_time": "2023-08-06T03:24:42.507051Z"
    }
   }
  },
  {
   "cell_type": "markdown",
   "source": [
    "By the metadata information from the datasource, we have:\n",
    "\n",
    "* r_instituicao: Unit responsible for performing government functions.\n",
    "* r_cpf: Masked individual taxpayer registration number.\n",
    "* r_matricula: Numerical identification of the employee in a given agency or entity.\n",
    "* r_nome: Full name of the employee.\n",
    "* r_categoria: Indicates the type of bond of the employee with the agency or entity.\n",
    "* r_cargo: Name of the position or job that the employee holds in the agency or entity.\n",
    "* r_vencimento_cargo: Fixed portion of the remuneration without other advantages.\n",
    "* r_funcao: Temporary designation for the performance of specific duties.\n",
    "* r_gratificacao_funcao: Amount related to the gratified function or the commissioned position held by the employee.\n",
    "* r_remuneracao: Amount corresponding to the sum of the fixed and variable portions of the position.\n",
    "* r_ferias: Value of the 1/3 vacation bonus calculated based on the employee's remuneration.\n",
    "* r_natalina: Amount corresponding to 1/12 of the remuneration that the employee is entitled to.\n",
    "* r_outras_vantagens: Amount corresponding to indemnity advantages.\n",
    "* r_total_vantagens: Total advantages received by the employee without deductions.\n",
    "* r_desconto_excedente: Deduction of the excess remuneration.\n",
    "* r_descontos_faltas: Deductions for absences and/or reimbursements to the State.\n",
    "* r_descontos_previdencia: Amount deducted from the employee for the own pension scheme.\n",
    "* r_imposto_renda: Amount corresponding to the income tax deduction.\n",
    "* r_descontos_compulsorios: Compulsory deductions.\n",
    "* r_valor_liquido: Total amount received by the employee after all deductions.\n",
    "* r_outros_creditos: Amounts paid through financial execution, some of which are indemnity amounts received by the employee.\n",
    "\n",
    "Let's see some statistical information about the numeric fields:"
   ],
   "metadata": {
    "collapsed": false
   }
  },
  {
   "cell_type": "code",
   "execution_count": 10,
   "outputs": [
    {
     "data": {
      "text/plain": "       r_total_vantagens  r_imposto_renda  r_outras_vantagens  \\\ncount      240592.000000    240592.000000       240592.000000   \nmean         3490.403097       406.234045          332.358127   \nstd          5243.506451       928.670259          915.535300   \nmin             0.000000         0.000000            0.000000   \n25%             0.000000         0.000000            0.000000   \n50%          1584.400000        18.855000            0.000000   \n75%          5584.400000       406.930000          340.400000   \nmax        129461.690000     13478.510000       115033.750000   \n\n       r_vencimento_cargo  r_gratificacao_funcao  r_desconto_excedente  \\\ncount       240592.000000          240592.000000         240592.000000   \nmean          2159.697203             223.150437             23.134294   \nstd           3214.452368            1137.287108            414.579118   \nmin              0.000000               0.000000              0.000000   \n25%              0.000000               0.000000              0.000000   \n50%            813.560000               0.000000              0.000000   \n75%           3900.000000               0.000000              0.000000   \nmax          30365.430000           26971.380000          13389.030000   \n\n       r_descontos_compulsorios     r_natalina  r_descontos_previdencia  \\\ncount             240592.000000  240592.000000            240592.000000   \nmean                 762.640515      15.310101               323.686571   \nstd                 1718.760318     140.510748               549.304183   \nmin                    0.000000       0.000000                 0.000000   \n25%                    0.000000       0.000000                 0.000000   \n50%                  138.420000       0.000000                87.215000   \n75%                  971.100000       0.000000               546.000000   \nmax                80261.960000   10925.060000             16057.910000   \n\n       r_valor_liquido  r_remuneracao       r_ferias  r_descontos_faltas  \ncount    240592.000000  240592.000000  240592.000000       240592.000000  \nmean       2727.769764    2911.786640     237.248878            9.585605  \nstd        3701.743455    4471.053722     747.310471          207.662772  \nmin           0.000000       0.000000       0.000000            0.000000  \n25%           0.000000       0.000000       0.000000            0.000000  \n50%        1425.230000    1320.000000       0.000000            0.000000  \n75%        4613.300000    4316.210000       0.000000            0.000000  \nmax       49199.730000   59004.230000   37586.850000        54780.850000  ",
      "text/html": "<div>\n<style scoped>\n    .dataframe tbody tr th:only-of-type {\n        vertical-align: middle;\n    }\n\n    .dataframe tbody tr th {\n        vertical-align: top;\n    }\n\n    .dataframe thead th {\n        text-align: right;\n    }\n</style>\n<table border=\"1\" class=\"dataframe\">\n  <thead>\n    <tr style=\"text-align: right;\">\n      <th></th>\n      <th>r_total_vantagens</th>\n      <th>r_imposto_renda</th>\n      <th>r_outras_vantagens</th>\n      <th>r_vencimento_cargo</th>\n      <th>r_gratificacao_funcao</th>\n      <th>r_desconto_excedente</th>\n      <th>r_descontos_compulsorios</th>\n      <th>r_natalina</th>\n      <th>r_descontos_previdencia</th>\n      <th>r_valor_liquido</th>\n      <th>r_remuneracao</th>\n      <th>r_ferias</th>\n      <th>r_descontos_faltas</th>\n    </tr>\n  </thead>\n  <tbody>\n    <tr>\n      <th>count</th>\n      <td>240592.000000</td>\n      <td>240592.000000</td>\n      <td>240592.000000</td>\n      <td>240592.000000</td>\n      <td>240592.000000</td>\n      <td>240592.000000</td>\n      <td>240592.000000</td>\n      <td>240592.000000</td>\n      <td>240592.000000</td>\n      <td>240592.000000</td>\n      <td>240592.000000</td>\n      <td>240592.000000</td>\n      <td>240592.000000</td>\n    </tr>\n    <tr>\n      <th>mean</th>\n      <td>3490.403097</td>\n      <td>406.234045</td>\n      <td>332.358127</td>\n      <td>2159.697203</td>\n      <td>223.150437</td>\n      <td>23.134294</td>\n      <td>762.640515</td>\n      <td>15.310101</td>\n      <td>323.686571</td>\n      <td>2727.769764</td>\n      <td>2911.786640</td>\n      <td>237.248878</td>\n      <td>9.585605</td>\n    </tr>\n    <tr>\n      <th>std</th>\n      <td>5243.506451</td>\n      <td>928.670259</td>\n      <td>915.535300</td>\n      <td>3214.452368</td>\n      <td>1137.287108</td>\n      <td>414.579118</td>\n      <td>1718.760318</td>\n      <td>140.510748</td>\n      <td>549.304183</td>\n      <td>3701.743455</td>\n      <td>4471.053722</td>\n      <td>747.310471</td>\n      <td>207.662772</td>\n    </tr>\n    <tr>\n      <th>min</th>\n      <td>0.000000</td>\n      <td>0.000000</td>\n      <td>0.000000</td>\n      <td>0.000000</td>\n      <td>0.000000</td>\n      <td>0.000000</td>\n      <td>0.000000</td>\n      <td>0.000000</td>\n      <td>0.000000</td>\n      <td>0.000000</td>\n      <td>0.000000</td>\n      <td>0.000000</td>\n      <td>0.000000</td>\n    </tr>\n    <tr>\n      <th>25%</th>\n      <td>0.000000</td>\n      <td>0.000000</td>\n      <td>0.000000</td>\n      <td>0.000000</td>\n      <td>0.000000</td>\n      <td>0.000000</td>\n      <td>0.000000</td>\n      <td>0.000000</td>\n      <td>0.000000</td>\n      <td>0.000000</td>\n      <td>0.000000</td>\n      <td>0.000000</td>\n      <td>0.000000</td>\n    </tr>\n    <tr>\n      <th>50%</th>\n      <td>1584.400000</td>\n      <td>18.855000</td>\n      <td>0.000000</td>\n      <td>813.560000</td>\n      <td>0.000000</td>\n      <td>0.000000</td>\n      <td>138.420000</td>\n      <td>0.000000</td>\n      <td>87.215000</td>\n      <td>1425.230000</td>\n      <td>1320.000000</td>\n      <td>0.000000</td>\n      <td>0.000000</td>\n    </tr>\n    <tr>\n      <th>75%</th>\n      <td>5584.400000</td>\n      <td>406.930000</td>\n      <td>340.400000</td>\n      <td>3900.000000</td>\n      <td>0.000000</td>\n      <td>0.000000</td>\n      <td>971.100000</td>\n      <td>0.000000</td>\n      <td>546.000000</td>\n      <td>4613.300000</td>\n      <td>4316.210000</td>\n      <td>0.000000</td>\n      <td>0.000000</td>\n    </tr>\n    <tr>\n      <th>max</th>\n      <td>129461.690000</td>\n      <td>13478.510000</td>\n      <td>115033.750000</td>\n      <td>30365.430000</td>\n      <td>26971.380000</td>\n      <td>13389.030000</td>\n      <td>80261.960000</td>\n      <td>10925.060000</td>\n      <td>16057.910000</td>\n      <td>49199.730000</td>\n      <td>59004.230000</td>\n      <td>37586.850000</td>\n      <td>54780.850000</td>\n    </tr>\n  </tbody>\n</table>\n</div>"
     },
     "execution_count": 10,
     "metadata": {},
     "output_type": "execute_result"
    }
   ],
   "source": [
    "df.describe()"
   ],
   "metadata": {
    "collapsed": false,
    "ExecuteTime": {
     "start_time": "2023-08-06T04:08:30.688371Z",
     "end_time": "2023-08-06T04:08:30.797910Z"
    }
   }
  },
  {
   "cell_type": "code",
   "execution_count": 11,
   "outputs": [
    {
     "data": {
      "text/plain": "r_matricula\n3026        6\n1490        6\n4901        6\n1716        6\n3603        5\n           ..\n12770067    1\n12895803    1\n13359174    1\n12247917    1\n4532040     1\nName: count, Length: 218287, dtype: int64"
     },
     "execution_count": 11,
     "metadata": {},
     "output_type": "execute_result"
    }
   ],
   "source": [
    "df['r_matricula'].value_counts()"
   ],
   "metadata": {
    "collapsed": false,
    "ExecuteTime": {
     "start_time": "2023-08-06T04:10:17.102900Z",
     "end_time": "2023-08-06T04:10:17.273427Z"
    }
   }
  },
  {
   "cell_type": "markdown",
   "source": [
    "The amount of rows in December 2022 is 240,592. Checking if there are more than one row for each \"r_matricula\", we notice that there are duplicated rows. This will be a future concern.\n",
    "\n",
    "### Basic statistics of wages:\n",
    "- Average: BRL 2,911.79\n",
    "- Std: BRL 4,471.05\n",
    "- Median: BRL 1,320.00\n",
    "- Max: BRL 59,004.23\n",
    "\n",
    "### Most common positions and average wages:\n",
    "- Professor (Teacher): BRL 6,373.88\n",
    "- Terceiro Sargento (Sergeant): BRL 5,006.30\n",
    "- Médico (Doctor): BRL 3,831.82\n",
    "- Cabo (Corporal): BRL 2,421.02\n",
    "- Analista em Saúde (Health analyst): BRL 1,248.63\n",
    "- Auxiliar em Saúde (Health assistant): BRL 1,071.07\n",
    "- Técnico em Enfermagem-CTD (Nursing technician): BRL 915.58\n",
    "- Soldado (Soldier): BRL 703.39\n",
    "\n",
    "Let's see some sampling of data:"
   ],
   "metadata": {
    "collapsed": false
   }
  },
  {
   "cell_type": "code",
   "execution_count": 6,
   "outputs": [
    {
     "data": {
      "text/plain": "   r_total_vantagens  r_imposto_renda  r_outras_vantagens  r_vencimento_cargo  \\\n0           10344.28          1341.57               334.4             5004.94   \n1            7800.36           893.48               334.4             3682.98   \n2           11265.44          1663.69               334.4             5465.52   \n3           12083.48          1908.50               580.8             5004.94   \n4           11257.18          1576.99               580.8             5004.94   \n\n                    r_categoria  r_gratificacao_funcao  \\\n0  SERVIDOR ESTATUTARIO EFETIVO                    0.0   \n1  SERVIDOR ESTATUTARIO EFETIVO                    0.0   \n2  SERVIDOR ESTATUTARIO EFETIVO                    0.0   \n3  SERVIDOR ESTATUTARIO EFETIVO                 1392.8   \n4  SERVIDOR ESTATUTARIO EFETIVO                  566.5   \n\n                    r_cargo  r_desconto_excedente  r_descontos_compulsorios  \\\n0  POLICIAL PENAL DO ESTADO                   0.0                   2742.95   \n1  POLICIAL PENAL DO ESTADO                   0.0                   1949.12   \n2  POLICIAL PENAL DO ESTADO                   0.0                   3194.04   \n3  POLICIAL PENAL DO ESTADO                   0.0                   3309.88   \n4  POLICIAL PENAL DO ESTADO                   0.0                   2978.37   \n\n  r_matricula  ...                             r_nome r_outros_creditos  \\\n0     2089572  ...                VANDI ALVES DE LIMA              None   \n1     3373223  ...            FABRICIA MONTEIRO DUQUE              None   \n2     2089351  ...           EVANDRO ALVES DOS SANTOS              None   \n3     3374432  ...  LILIANE DE CASSIA SILVA DE ARRUDA              None   \n4     2156113  ...           CASSEUS CLAY LEITE SILVA              None   \n\n                                     r_instituicao  \\\n0  SERES - SECRETARIA EXECUTIVA DE RESSOCIALIZAÇÃO   \n1  SERES - SECRETARIA EXECUTIVA DE RESSOCIALIZAÇÃO   \n2  SERES - SECRETARIA EXECUTIVA DE RESSOCIALIZAÇÃO   \n3  SERES - SECRETARIA EXECUTIVA DE RESSOCIALIZAÇÃO   \n4  SERES - SECRETARIA EXECUTIVA DE RESSOCIALIZAÇÃO   \n\n                        r_funcao r_descontos_previdencia  r_valor_liquido  \\\n0                             NA                 1401.38          7601.33   \n1                             NA                 1031.23          5851.24   \n2                             NA                 1530.35          8071.40   \n3     SUBSTITUICAO SIMBOLO-FGS-1                 1401.38          8773.60   \n4  FUN GRAT SUPERVISAO 3 - FGS-3                 1401.38          8278.81   \n\n   r_remuneracao  r_ferias           r_cpf r_descontos_faltas  \n0       10009.88       0.0  ***.877.934-**               0.00  \n1        7465.96       0.0  ***.913.194-**              24.41  \n2       10931.04       0.0  ***.924.034-**               0.00  \n3       11502.68       0.0  ***.007.124-**               0.00  \n4       10676.38       0.0  ***.018.904-**               0.00  \n\n[5 rows x 21 columns]",
      "text/html": "<div>\n<style scoped>\n    .dataframe tbody tr th:only-of-type {\n        vertical-align: middle;\n    }\n\n    .dataframe tbody tr th {\n        vertical-align: top;\n    }\n\n    .dataframe thead th {\n        text-align: right;\n    }\n</style>\n<table border=\"1\" class=\"dataframe\">\n  <thead>\n    <tr style=\"text-align: right;\">\n      <th></th>\n      <th>r_total_vantagens</th>\n      <th>r_imposto_renda</th>\n      <th>r_outras_vantagens</th>\n      <th>r_vencimento_cargo</th>\n      <th>r_categoria</th>\n      <th>r_gratificacao_funcao</th>\n      <th>r_cargo</th>\n      <th>r_desconto_excedente</th>\n      <th>r_descontos_compulsorios</th>\n      <th>r_matricula</th>\n      <th>...</th>\n      <th>r_nome</th>\n      <th>r_outros_creditos</th>\n      <th>r_instituicao</th>\n      <th>r_funcao</th>\n      <th>r_descontos_previdencia</th>\n      <th>r_valor_liquido</th>\n      <th>r_remuneracao</th>\n      <th>r_ferias</th>\n      <th>r_cpf</th>\n      <th>r_descontos_faltas</th>\n    </tr>\n  </thead>\n  <tbody>\n    <tr>\n      <th>0</th>\n      <td>10344.28</td>\n      <td>1341.57</td>\n      <td>334.4</td>\n      <td>5004.94</td>\n      <td>SERVIDOR ESTATUTARIO EFETIVO</td>\n      <td>0.0</td>\n      <td>POLICIAL PENAL DO ESTADO</td>\n      <td>0.0</td>\n      <td>2742.95</td>\n      <td>2089572</td>\n      <td>...</td>\n      <td>VANDI ALVES DE LIMA</td>\n      <td>None</td>\n      <td>SERES - SECRETARIA EXECUTIVA DE RESSOCIALIZAÇÃO</td>\n      <td>NA</td>\n      <td>1401.38</td>\n      <td>7601.33</td>\n      <td>10009.88</td>\n      <td>0.0</td>\n      <td>***.877.934-**</td>\n      <td>0.00</td>\n    </tr>\n    <tr>\n      <th>1</th>\n      <td>7800.36</td>\n      <td>893.48</td>\n      <td>334.4</td>\n      <td>3682.98</td>\n      <td>SERVIDOR ESTATUTARIO EFETIVO</td>\n      <td>0.0</td>\n      <td>POLICIAL PENAL DO ESTADO</td>\n      <td>0.0</td>\n      <td>1949.12</td>\n      <td>3373223</td>\n      <td>...</td>\n      <td>FABRICIA MONTEIRO DUQUE</td>\n      <td>None</td>\n      <td>SERES - SECRETARIA EXECUTIVA DE RESSOCIALIZAÇÃO</td>\n      <td>NA</td>\n      <td>1031.23</td>\n      <td>5851.24</td>\n      <td>7465.96</td>\n      <td>0.0</td>\n      <td>***.913.194-**</td>\n      <td>24.41</td>\n    </tr>\n    <tr>\n      <th>2</th>\n      <td>11265.44</td>\n      <td>1663.69</td>\n      <td>334.4</td>\n      <td>5465.52</td>\n      <td>SERVIDOR ESTATUTARIO EFETIVO</td>\n      <td>0.0</td>\n      <td>POLICIAL PENAL DO ESTADO</td>\n      <td>0.0</td>\n      <td>3194.04</td>\n      <td>2089351</td>\n      <td>...</td>\n      <td>EVANDRO ALVES DOS SANTOS</td>\n      <td>None</td>\n      <td>SERES - SECRETARIA EXECUTIVA DE RESSOCIALIZAÇÃO</td>\n      <td>NA</td>\n      <td>1530.35</td>\n      <td>8071.40</td>\n      <td>10931.04</td>\n      <td>0.0</td>\n      <td>***.924.034-**</td>\n      <td>0.00</td>\n    </tr>\n    <tr>\n      <th>3</th>\n      <td>12083.48</td>\n      <td>1908.50</td>\n      <td>580.8</td>\n      <td>5004.94</td>\n      <td>SERVIDOR ESTATUTARIO EFETIVO</td>\n      <td>1392.8</td>\n      <td>POLICIAL PENAL DO ESTADO</td>\n      <td>0.0</td>\n      <td>3309.88</td>\n      <td>3374432</td>\n      <td>...</td>\n      <td>LILIANE DE CASSIA SILVA DE ARRUDA</td>\n      <td>None</td>\n      <td>SERES - SECRETARIA EXECUTIVA DE RESSOCIALIZAÇÃO</td>\n      <td>SUBSTITUICAO SIMBOLO-FGS-1</td>\n      <td>1401.38</td>\n      <td>8773.60</td>\n      <td>11502.68</td>\n      <td>0.0</td>\n      <td>***.007.124-**</td>\n      <td>0.00</td>\n    </tr>\n    <tr>\n      <th>4</th>\n      <td>11257.18</td>\n      <td>1576.99</td>\n      <td>580.8</td>\n      <td>5004.94</td>\n      <td>SERVIDOR ESTATUTARIO EFETIVO</td>\n      <td>566.5</td>\n      <td>POLICIAL PENAL DO ESTADO</td>\n      <td>0.0</td>\n      <td>2978.37</td>\n      <td>2156113</td>\n      <td>...</td>\n      <td>CASSEUS CLAY LEITE SILVA</td>\n      <td>None</td>\n      <td>SERES - SECRETARIA EXECUTIVA DE RESSOCIALIZAÇÃO</td>\n      <td>FUN GRAT SUPERVISAO 3 - FGS-3</td>\n      <td>1401.38</td>\n      <td>8278.81</td>\n      <td>10676.38</td>\n      <td>0.0</td>\n      <td>***.018.904-**</td>\n      <td>0.00</td>\n    </tr>\n  </tbody>\n</table>\n<p>5 rows × 21 columns</p>\n</div>"
     },
     "execution_count": 6,
     "metadata": {},
     "output_type": "execute_result"
    }
   ],
   "source": [
    "df.head()"
   ],
   "metadata": {
    "collapsed": false,
    "ExecuteTime": {
     "start_time": "2023-08-06T03:24:42.670446Z",
     "end_time": "2023-08-06T03:24:42.702011Z"
    }
   }
  },
  {
   "cell_type": "markdown",
   "source": [
    "And the detected data types:"
   ],
   "metadata": {
    "collapsed": false
   }
  },
  {
   "cell_type": "code",
   "execution_count": 12,
   "outputs": [
    {
     "data": {
      "text/plain": "r_total_vantagens           float64\nr_imposto_renda             float64\nr_outras_vantagens          float64\nr_vencimento_cargo          float64\nr_categoria                  object\nr_gratificacao_funcao       float64\nr_cargo                      object\nr_desconto_excedente        float64\nr_descontos_compulsorios    float64\nr_matricula                  object\nr_natalina                  float64\nr_nome                       object\nr_outros_creditos            object\nr_instituicao                object\nr_funcao                     object\nr_descontos_previdencia     float64\nr_valor_liquido             float64\nr_remuneracao               float64\nr_ferias                    float64\nr_cpf                        object\nr_descontos_faltas          float64\ndtype: object"
     },
     "execution_count": 12,
     "metadata": {},
     "output_type": "execute_result"
    }
   ],
   "source": [
    "df.dtypes"
   ],
   "metadata": {
    "collapsed": false,
    "ExecuteTime": {
     "start_time": "2023-08-06T04:23:10.568913Z",
     "end_time": "2023-08-06T04:23:10.584501Z"
    }
   }
  },
  {
   "cell_type": "code",
   "execution_count": null,
   "outputs": [],
   "source": [],
   "metadata": {
    "collapsed": false
   }
  }
 ],
 "metadata": {
  "kernelspec": {
   "display_name": "Python 3",
   "language": "python",
   "name": "python3"
  },
  "language_info": {
   "codemirror_mode": {
    "name": "ipython",
    "version": 2
   },
   "file_extension": ".py",
   "mimetype": "text/x-python",
   "name": "python",
   "nbconvert_exporter": "python",
   "pygments_lexer": "ipython2",
   "version": "2.7.6"
  }
 },
 "nbformat": 4,
 "nbformat_minor": 0
}
